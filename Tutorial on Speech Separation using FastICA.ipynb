{
 "cells": [
  {
   "cell_type": "markdown",
   "metadata": {},
   "source": [
    "# Load dependencies"
   ]
  },
  {
   "cell_type": "code",
   "execution_count": 1,
   "metadata": {},
   "outputs": [
    {
     "name": "stderr",
     "output_type": "stream",
     "text": [
      "/Users/johnnoelvictorino/.pyenv/versions/3.7.4/envs/cocktail-party-problem/lib/python3.7/site-packages/pandas/compat/__init__.py:85: UserWarning: Could not import the lzma module. Your installed Python is incomplete. Attempting to use lzma compression will result in a RuntimeError.\n",
      "  warnings.warn(msg)\n",
      "/Users/johnnoelvictorino/.pyenv/versions/3.7.4/envs/cocktail-party-problem/lib/python3.7/site-packages/pandas/compat/__init__.py:85: UserWarning: Could not import the lzma module. Your installed Python is incomplete. Attempting to use lzma compression will result in a RuntimeError.\n",
      "  warnings.warn(msg)\n"
     ]
    }
   ],
   "source": [
    "import soundfile as sf\n",
    "import glob # for listing file given directory & pattern\n",
    "import numpy as np\n",
    "import itertools\n",
    "import argparse as ap\n",
    "import FastICA as fastica\n",
    "\n",
    "import pandas as pd\n",
    "import matplotlib.pyplot as plt"
   ]
  },
  {
   "cell_type": "markdown",
   "metadata": {},
   "source": [
    "# Mixing"
   ]
  },
  {
   "cell_type": "markdown",
   "metadata": {},
   "source": [
    "## Define arguments"
   ]
  },
  {
   "cell_type": "code",
   "execution_count": 2,
   "metadata": {},
   "outputs": [],
   "source": [
    "category1 = 'speech'\n",
    "category2 = 'speech'\n",
    "mix_rate = 0.7"
   ]
  },
  {
   "cell_type": "markdown",
   "metadata": {},
   "source": [
    "## Load file path"
   ]
  },
  {
   "cell_type": "code",
   "execution_count": 3,
   "metadata": {
    "code_folding": []
   },
   "outputs": [],
   "source": [
    "# Returns total number of of audio files in first category's folder\n",
    "# Note: variable interpolation in string works in Python >3.6\n",
    "category1_files = glob.glob(\n",
    "    f'./sounds/{category1}/*.flac'\n",
    ")\n",
    "# Returns total number of of audio files in second category's folder\n",
    "category2_files = glob.glob(\n",
    "    f'./sounds/{category2}/*.flac'\n",
    ")\n",
    "# Returns total number of of audio files in mixed folder (this should start with 0)\n",
    "mix_count = len(\n",
    "    glob.glob(\n",
    "        './sounds/mixed/*.flac'\n",
    "    )\n",
    ")"
   ]
  },
  {
   "cell_type": "code",
   "execution_count": 4,
   "metadata": {},
   "outputs": [
    {
     "data": {
      "text/plain": [
       "['./sounds/speech/speech1.flac',\n",
       " './sounds/speech/speech0.flac',\n",
       " './sounds/speech/speech3.flac',\n",
       " './sounds/speech/speech2.flac',\n",
       " './sounds/speech/speech4.flac']"
      ]
     },
     "execution_count": 4,
     "metadata": {},
     "output_type": "execute_result"
    }
   ],
   "source": [
    "category1_files"
   ]
  },
  {
   "cell_type": "code",
   "execution_count": 5,
   "metadata": {},
   "outputs": [
    {
     "data": {
      "text/plain": [
       "['./sounds/speech/speech1.flac',\n",
       " './sounds/speech/speech0.flac',\n",
       " './sounds/speech/speech3.flac',\n",
       " './sounds/speech/speech2.flac',\n",
       " './sounds/speech/speech4.flac']"
      ]
     },
     "execution_count": 5,
     "metadata": {},
     "output_type": "execute_result"
    }
   ],
   "source": [
    "category2_files"
   ]
  },
  {
   "cell_type": "code",
   "execution_count": 6,
   "metadata": {},
   "outputs": [
    {
     "data": {
      "text/plain": [
       "40"
      ]
     },
     "execution_count": 6,
     "metadata": {},
     "output_type": "execute_result"
    }
   ],
   "source": [
    "mix_count"
   ]
  },
  {
   "cell_type": "markdown",
   "metadata": {},
   "source": [
    "## Define mix_sounds & bring_equal_length\n",
    "$$\n",
    "mixed\\_sound = \\textit{audio_data1} * \\textit{weight1} + \\textit{audio_data2} * \\textit{weight2}\n",
    "$$\n",
    "\n",
    "where:\n",
    "\n",
    "* *audio_data1*, *audio_data2*: audio data to be mixed\n",
    "* *weight1*, *weight2*: distance of audio data from mic\n",
    "\n",
    "Example:\n",
    "\n",
    "The first sound source is 0.8 meters from the microphone, while the second sound file is 0.2 meters from the microphone.\n",
    "\n",
    "The mixed sound file output from the function combine sounds at this rate."
   ]
  },
  {
   "cell_type": "code",
   "execution_count": 7,
   "metadata": {
    "code_folding": [
     0
    ]
   },
   "outputs": [],
   "source": [
    "def mix_sounds(data1, data2, weight1, weight2):\n",
    "    \"\"\" Mixes the two given sound data at the given mixing ratios.\n",
    "    Creates a mixed audio file similar to the relationship of the\n",
    "    sound sources in the cocktail party problem to the microphones.\n",
    "\n",
    "    For example the first sound source is 0.8 meters from the microphone,\n",
    "    the second sound file is 0.2 meters from the microphone. The mixed\n",
    "    sound file output from the function combine sounds at this rate.\n",
    "    The sound that is so distant is a noise for this microphone.\n",
    "\n",
    "    Args:\n",
    "        data1 (numpy.ndarray): the first sound data.\n",
    "        data2 (numpy.ndarray): the second sound data.\n",
    "        weight1       (float): the weight of the first sound data.\n",
    "        weight2       (float): the weight of the second sound data.\n",
    "    Returns:\n",
    "        mixed_sound (numpy.ndarray): the mix sound data.\n",
    "    \"\"\"\n",
    "    mixed_sound = data1 * weight1 + data2 * weight2\n",
    "    return mixed_sound"
   ]
  },
  {
   "cell_type": "code",
   "execution_count": 8,
   "metadata": {
    "code_folding": [
     0
    ]
   },
   "outputs": [],
   "source": [
    "def bring_equal_length(data1, data2, by='max'):\n",
    "    \"\"\" Brings the audio data of two different\n",
    "    lengths between the two to the minimum or maximum (default) length.\n",
    "\n",
    "    For example, sound1 is 23 second, sound2 is 30 second.\n",
    "    This function returns both sounds 30 seconds long, for maximum length with 0 padding or\n",
    "    both sounds 23 seconds long, for minimum length\n",
    "    (minimum one).\n",
    "\n",
    "    Args:\n",
    "        data1 (numpy.ndarray): the first sound data.\n",
    "        data2 (numpy.ndarray): the second sound data.\n",
    "        by    (str)          : adjust data based on minimum (min) or maximum (max, default) length\n",
    "    Returns:\n",
    "        data1 (numpy.ndarray): the first data in the new length.\n",
    "        data2 (numpy.ndarray): the second data in the new length.\n",
    "    \"\"\"\n",
    "    \n",
    "    if by == 'max':\n",
    "        data1, data2 = np.array(list(itertools.zip_longest(\n",
    "            category1_file, category2_file,\n",
    "            fillvalue = 0\n",
    "        ))).T\n",
    "    elif by == 'min':\n",
    "        min_length = min(data1.shape[0], data2.shape[0])\n",
    "        data1 = data1[0:min_length]\n",
    "        data2 = data2[0:min_length]\n",
    "    else:\n",
    "        raise ValueError(\"by must be 'min' or 'max'\")\n",
    "    return data1, data2"
   ]
  },
  {
   "cell_type": "markdown",
   "metadata": {},
   "source": [
    "## Mix audio files\n",
    "Mixing audio files will be done like this..."
   ]
  },
  {
   "cell_type": "code",
   "execution_count": null,
   "metadata": {},
   "outputs": [],
   "source": [
    "# Note: This cell is for explanation and testing purposes\n",
    "files = [(x, y) for x, y in itertools.product(category1_files, category2_files) if x != y]\n",
    "category1_filename, category2_filename = files[0]\n",
    "data1, sample_rate1 = sf.read(category1_filename)\n",
    "data2, sample_rate2 = sf.read(category2_filename)\n",
    "files"
   ]
  },
  {
   "cell_type": "markdown",
   "metadata": {},
   "source": [
    "Mixing two audio files will be done twice.\n",
    "\n",
    "$$\n",
    "\\textit{mixed_sound1} = \\textit{audio_data1} * \\textit{weight1} + \\textit{audio_data2} * \\textit{weight2}\n",
    "$$\n",
    "\n",
    "$$\n",
    "\\textit{mixed_sound2} = \\textit{audio_data2} * \\textit{weight1} + \\textit{audio_data1} * \\textit{weight2}\n",
    "$$\n"
   ]
  },
  {
   "cell_type": "markdown",
   "metadata": {},
   "source": [
    "If mixing audio files to itself, it will produce `(n * n - n) * 2` files.\n",
    "\n",
    "For example, if there are **5** audio files `(n = 5)` and it will be mixed with itself,\n",
    "the total mixed files will be **40**.\n"
   ]
  },
  {
   "cell_type": "code",
   "execution_count": null,
   "metadata": {
    "code_folding": []
   },
   "outputs": [],
   "source": [
    "# if category1 == category2 i.e., trying to mix the same category to itself\n",
    "for category1_filename, category2_filename in itertools.product(category1_files, category2_files):\n",
    "    if category1_filename != category2_filename:\n",
    "        category1_file, sample_rate1 = sf.read(category1_filename)\n",
    "        category2_file, sample_rate2 = sf.read(category2_filename)\n",
    "        category1_file, category2_file = bring_equal_length(category1_file, category2_file)\n",
    "        mix1 = mix_sounds(category1_file, category2_file, mix_rate, 1 - mix_rate)\n",
    "        mix2 = mix_sounds(category2_file, category1_file, mix_rate, 1 - mix_rate)\n",
    "        sf.write(f'./sounds/mixed/mixed{str(mix_count)}.flac', mix1, sample_rate1)\n",
    "        sf.write(f'./sounds/mixed/mixed{str(mix_count + 1)}.flac', mix2, sample_rate2)\n",
    "        mix_count += 2"
   ]
  },
  {
   "cell_type": "code",
   "execution_count": 9,
   "metadata": {},
   "outputs": [
    {
     "data": {
      "text/plain": [
       "['./sounds/mixed/mixed0.flac',\n",
       " './sounds/mixed/mixed1.flac',\n",
       " './sounds/mixed/mixed10.flac',\n",
       " './sounds/mixed/mixed11.flac',\n",
       " './sounds/mixed/mixed12.flac',\n",
       " './sounds/mixed/mixed13.flac',\n",
       " './sounds/mixed/mixed14.flac',\n",
       " './sounds/mixed/mixed15.flac',\n",
       " './sounds/mixed/mixed16.flac',\n",
       " './sounds/mixed/mixed17.flac',\n",
       " './sounds/mixed/mixed18.flac',\n",
       " './sounds/mixed/mixed19.flac',\n",
       " './sounds/mixed/mixed2.flac',\n",
       " './sounds/mixed/mixed20.flac',\n",
       " './sounds/mixed/mixed21.flac',\n",
       " './sounds/mixed/mixed22.flac',\n",
       " './sounds/mixed/mixed23.flac',\n",
       " './sounds/mixed/mixed24.flac',\n",
       " './sounds/mixed/mixed25.flac',\n",
       " './sounds/mixed/mixed26.flac',\n",
       " './sounds/mixed/mixed27.flac',\n",
       " './sounds/mixed/mixed28.flac',\n",
       " './sounds/mixed/mixed29.flac',\n",
       " './sounds/mixed/mixed3.flac',\n",
       " './sounds/mixed/mixed30.flac',\n",
       " './sounds/mixed/mixed31.flac',\n",
       " './sounds/mixed/mixed32.flac',\n",
       " './sounds/mixed/mixed33.flac',\n",
       " './sounds/mixed/mixed34.flac',\n",
       " './sounds/mixed/mixed35.flac',\n",
       " './sounds/mixed/mixed36.flac',\n",
       " './sounds/mixed/mixed37.flac',\n",
       " './sounds/mixed/mixed38.flac',\n",
       " './sounds/mixed/mixed39.flac',\n",
       " './sounds/mixed/mixed4.flac',\n",
       " './sounds/mixed/mixed5.flac',\n",
       " './sounds/mixed/mixed6.flac',\n",
       " './sounds/mixed/mixed7.flac',\n",
       " './sounds/mixed/mixed8.flac',\n",
       " './sounds/mixed/mixed9.flac']"
      ]
     },
     "execution_count": 9,
     "metadata": {},
     "output_type": "execute_result"
    }
   ],
   "source": [
    "# Note: This cell is for explanation and testing purposes\n",
    "sorted(glob.glob(\n",
    "    f'./sounds/mixed/*.flac'\n",
    "))"
   ]
  },
  {
   "cell_type": "markdown",
   "metadata": {},
   "source": [
    "# Separating"
   ]
  },
  {
   "cell_type": "markdown",
   "metadata": {},
   "source": [
    "## Define argument"
   ]
  },
  {
   "cell_type": "code",
   "execution_count": 10,
   "metadata": {},
   "outputs": [],
   "source": [
    "mixed_file_number = 0"
   ]
  },
  {
   "cell_type": "markdown",
   "metadata": {},
   "source": [
    "## Find pair of mixed files\n",
    "Since individual audio files are mixed twice, we need to get pair of mixed file.\n",
    "\n",
    "Please refer to [Mix audio files](#Mix-audio-files)\n",
    "\n",
    "For example, if `mixed_file_number` is **0**, \n",
    "1. Check if mixed_file_number is odd or even.\n",
    "2. Return pair of mixed files.\n",
    "    1. If **even**, return `mixed0.flac` and `mixed1.flac`.\n",
    "    2. If **odd** (if `mixed_file_number` is **1**), return `mixed0.flac` and `mixed1.flac`."
   ]
  },
  {
   "cell_type": "code",
   "execution_count": 11,
   "metadata": {
    "code_folding": [
     0
    ]
   },
   "outputs": [],
   "source": [
    "def find_pair_of_mixed_file(mixed_file_number):\n",
    "    \"\"\" Returns pair of mixed files from the mix folder, based on mixed_file_number\n",
    "    Note: Since individual audio files are mixed in combination, we need to get pair of mixed file.\n",
    "    For example, audio1 & audio2 are mixed. This will produce the following:\n",
    "        audio1 * weight1 + audio2 * weight2\n",
    "        audio2 * weight1 + audio1 * weight2\n",
    "\n",
    "    For example, if mixed_file_number is 0, this will check if mixed_file_number is odd or even.\n",
    "    If even, it will return mixed0.flac and mixed1.flac.\n",
    "    If odd (given mixed_file_number 1), it will return mixed0.flac and mixed1.flac\n",
    "\n",
    "    Args:\n",
    "        mixed_file_number (int): mix file number to separate\n",
    "    Returns:\n",
    "        mixed_data1 (numpy.ndarray): audio file of first combination\n",
    "        mixed_data2 (numpy.ndarray): audio file of second combination\n",
    "        sample_rate1 (int): sampling rate of mixed_data1\n",
    "        sample_rate2 (int): sampling rate of mixed_data2\n",
    "    \"\"\"\n",
    "    if mixed_file_number % 2 == 0:\n",
    "        filename1 = f'./sounds/mixed/mixed{str(mixed_file_number)}.flac'\n",
    "        filename2 = f'./sounds/mixed/mixed{str(mixed_file_number + 1)}.flac'\n",
    "        mixed_data1, sample_rate1 = sf.read(filename1)\n",
    "        mixed_data2, sample_rate2 = sf.read(filename2)\n",
    "    else:\n",
    "        filename1 = f'./sounds/mixed/mixed{str(mixed_file_number - 1)}.flac'\n",
    "        filename2 = f'./sounds/mixed/mixed{str(mixed_file_number)}.flac'\n",
    "        mixed_data1, sample_rate1 = sf.read(filename1)\n",
    "        mixed_data2, sample_rate2 = sf.read(filename2)\n",
    "    print(f'Returning {filename1} and {filename2}')\n",
    "    return mixed_data1, mixed_data2, sample_rate1, sample_rate2"
   ]
  },
  {
   "cell_type": "code",
   "execution_count": 12,
   "metadata": {},
   "outputs": [
    {
     "name": "stdout",
     "output_type": "stream",
     "text": [
      "Returning ./sounds/mixed/mixed0.flac and ./sounds/mixed/mixed1.flac\n"
     ]
    }
   ],
   "source": [
    "mixed_data1, mixed_data2, sample_rate1, sample_rate2 = find_pair_of_mixed_file(0)"
   ]
  },
  {
   "cell_type": "markdown",
   "metadata": {},
   "source": [
    "## Center mixed files"
   ]
  },
  {
   "cell_type": "markdown",
   "metadata": {},
   "source": [
    "**Centering matrix** is a *symmetric* and *idempotent* matrix, which when multiplied with a vector has the same effect as subtracting the mean of the components of the vector from every component.\n",
    "\n",
    "Note: **idempotent** - denoting an element of a set which is unchanged in value when multiplied or otherwise operated on by itself.\n",
    "\n",
    "$$\n",
    "centered\\_matrix = original\\_matrix - mean(original\\_matrix)\n",
    "$$"
   ]
  },
  {
   "cell_type": "code",
   "execution_count": 13,
   "metadata": {
    "code_folding": [
     0
    ]
   },
   "outputs": [],
   "source": [
    "def centering_process(data):\n",
    "    \"\"\" The centering matrix is a symmetric and idempotent matrix,\n",
    "    which when multiplied with a vector has the same effect as\n",
    "    subtracting the mean of the components of the vector from every component.\n",
    "    Note:\n",
    "        idempotent - denoting an element of a set which is unchanged in value\n",
    "            when multiplied or otherwise operated on by itself.\n",
    "    Args:\n",
    "        data          (numpy.ndarray): the mixed sound data.\n",
    "    Returns:\n",
    "        centered_data (numpy.ndarray): the centered mixed sound data.\n",
    "    \"\"\"\n",
    "    centered_data = data - np.mean(data)\n",
    "    return centered_data"
   ]
  },
  {
   "cell_type": "code",
   "execution_count": 14,
   "metadata": {
    "code_folding": [
     0
    ]
   },
   "outputs": [],
   "source": [
    "centered_mixed1 = centering_process(mixed_data1)\n",
    "centered_mixed2 = centering_process(mixed_data2)"
   ]
  },
  {
   "cell_type": "code",
   "execution_count": 15,
   "metadata": {},
   "outputs": [
    {
     "data": {
      "text/plain": [
       "<Figure size 432x288 with 0 Axes>"
      ]
     },
     "metadata": {},
     "output_type": "display_data"
    },
    {
     "name": "stderr",
     "output_type": "stream",
     "text": [
      "/Users/johnnoelvictorino/.pyenv/versions/3.7.4/envs/cocktail-party-problem/lib/python3.7/site-packages/IPython/core/pylabtools.py:128: UserWarning: Creating legend with loc=\"best\" can be slow with large amounts of data.\n",
      "  fig.canvas.print_figure(bytes_io, **kw)\n"
     ]
    },
    {
     "data": {
      "image/png": "[encoded data removed]",
      "text/plain": [
       "<Figure size 432x360 with 2 Axes>"
      ]
     },
     "metadata": {
      "needs_background": "light"
     },
     "output_type": "display_data"
    }
   ],
   "source": [
    "# Note: This cell is for explanation and testing purposes\n",
    "# Show 2 wav files in plot\n",
    "time = np.arange(0, (len(mixed_data1) / sample_rate1), (1 / sample_rate1))\n",
    "\n",
    "#Show wav file on chart\n",
    "fig = plt.figure()\n",
    "fig, (ax1, ax2) = plt.subplots(2, figsize=(6,5), sharey=True)\n",
    "\n",
    "ax1.plot(time, mixed_data1, color=\"green\", alpha = 0.8)\n",
    "ax1.set(title='Mixture audio files', ylabel='Amplitude')\n",
    "ax1.legend(['Original Mixed Data 1'])\n",
    "\n",
    "ax2.plot(time, centered_mixed1, color=\"blue\", alpha = 0.8)\n",
    "ax2.set(xlabel='Time [sec]', ylabel='Amplitude')\n",
    "ax2.legend(['Centered Mixed Data 1'])\n",
    "\n",
    "plt.show()\n",
    "plt.close(fig)"
   ]
  },
  {
   "cell_type": "code",
   "execution_count": 16,
   "metadata": {},
   "outputs": [
    {
     "data": {
      "text/html": [
       "<div>\n",
       "<style scoped>\n",
       "    .dataframe tbody tr th:only-of-type {\n",
       "        vertical-align: middle;\n",
       "    }\n",
       "\n",
       "    .dataframe tbody tr th {\n",
       "        vertical-align: top;\n",
       "    }\n",
       "\n",
       "    .dataframe thead th {\n",
       "        text-align: right;\n",
       "    }\n",
       "</style>\n",
       "<table border=\"1\" class=\"dataframe\">\n",
       "  <thead>\n",
       "    <tr style=\"text-align: right;\">\n",
       "      <th></th>\n",
       "      <th>original</th>\n",
       "      <th>centered</th>\n",
       "    </tr>\n",
       "  </thead>\n",
       "  <tbody>\n",
       "    <tr>\n",
       "      <th>0</th>\n",
       "      <td>0.000885</td>\n",
       "      <td>0.000959</td>\n",
       "    </tr>\n",
       "    <tr>\n",
       "      <th>1</th>\n",
       "      <td>0.000854</td>\n",
       "      <td>0.000928</td>\n",
       "    </tr>\n",
       "    <tr>\n",
       "      <th>2</th>\n",
       "      <td>0.000793</td>\n",
       "      <td>0.000867</td>\n",
       "    </tr>\n",
       "    <tr>\n",
       "      <th>3</th>\n",
       "      <td>0.000702</td>\n",
       "      <td>0.000775</td>\n",
       "    </tr>\n",
       "    <tr>\n",
       "      <th>4</th>\n",
       "      <td>0.000580</td>\n",
       "      <td>0.000653</td>\n",
       "    </tr>\n",
       "    <tr>\n",
       "      <th>...</th>\n",
       "      <td>...</td>\n",
       "      <td>...</td>\n",
       "    </tr>\n",
       "    <tr>\n",
       "      <th>877144</th>\n",
       "      <td>-0.002106</td>\n",
       "      <td>-0.002032</td>\n",
       "    </tr>\n",
       "    <tr>\n",
       "      <th>877145</th>\n",
       "      <td>-0.001984</td>\n",
       "      <td>-0.001910</td>\n",
       "    </tr>\n",
       "    <tr>\n",
       "      <th>877146</th>\n",
       "      <td>-0.001923</td>\n",
       "      <td>-0.001849</td>\n",
       "    </tr>\n",
       "    <tr>\n",
       "      <th>877147</th>\n",
       "      <td>-0.001862</td>\n",
       "      <td>-0.001788</td>\n",
       "    </tr>\n",
       "    <tr>\n",
       "      <th>877148</th>\n",
       "      <td>-0.001862</td>\n",
       "      <td>-0.001788</td>\n",
       "    </tr>\n",
       "  </tbody>\n",
       "</table>\n",
       "<p>877149 rows × 2 columns</p>\n",
       "</div>"
      ],
      "text/plain": [
       "        original  centered\n",
       "0       0.000885  0.000959\n",
       "1       0.000854  0.000928\n",
       "2       0.000793  0.000867\n",
       "3       0.000702  0.000775\n",
       "4       0.000580  0.000653\n",
       "...          ...       ...\n",
       "877144 -0.002106 -0.002032\n",
       "877145 -0.001984 -0.001910\n",
       "877146 -0.001923 -0.001849\n",
       "877147 -0.001862 -0.001788\n",
       "877148 -0.001862 -0.001788\n",
       "\n",
       "[877149 rows x 2 columns]"
      ]
     },
     "execution_count": 16,
     "metadata": {},
     "output_type": "execute_result"
    }
   ],
   "source": [
    "# Note: This cell is for explanation and testing purposes\n",
    "pd.DataFrame({\n",
    "    'original': mixed_data1,\n",
    "    'centered': centered_mixed1\n",
    "})"
   ]
  },
  {
   "cell_type": "markdown",
   "metadata": {},
   "source": [
    "## Stack mixed data vertically"
   ]
  },
  {
   "cell_type": "code",
   "execution_count": 17,
   "metadata": {},
   "outputs": [
    {
     "data": {
      "text/plain": [
       "array([[ 0.00095857,  0.00092805,  0.00086702, ..., -0.00184905,\n",
       "        -0.00178801, -0.00178801],\n",
       "       [ 0.00040465,  0.00037414,  0.00025206, ..., -0.00078553,\n",
       "        -0.00075502, -0.00075502]])"
      ]
     },
     "execution_count": 17,
     "metadata": {},
     "output_type": "execute_result"
    }
   ],
   "source": [
    "mixed_data_stack = np.vstack((centered_mixed1, centered_mixed2))\n",
    "mixed_data_stack"
   ]
  },
  {
   "cell_type": "markdown",
   "metadata": {},
   "source": [
    "The next 3 cells will illustrate the output of vertically stacking the 2 mixed data."
   ]
  },
  {
   "cell_type": "code",
   "execution_count": 18,
   "metadata": {},
   "outputs": [
    {
     "data": {
      "text/html": [
       "<div>\n",
       "<style scoped>\n",
       "    .dataframe tbody tr th:only-of-type {\n",
       "        vertical-align: middle;\n",
       "    }\n",
       "\n",
       "    .dataframe tbody tr th {\n",
       "        vertical-align: top;\n",
       "    }\n",
       "\n",
       "    .dataframe thead th {\n",
       "        text-align: right;\n",
       "    }\n",
       "</style>\n",
       "<table border=\"1\" class=\"dataframe\">\n",
       "  <thead>\n",
       "    <tr style=\"text-align: right;\">\n",
       "      <th></th>\n",
       "      <th>0</th>\n",
       "    </tr>\n",
       "  </thead>\n",
       "  <tbody>\n",
       "    <tr>\n",
       "      <th>0</th>\n",
       "      <td>1</td>\n",
       "    </tr>\n",
       "    <tr>\n",
       "      <th>1</th>\n",
       "      <td>2</td>\n",
       "    </tr>\n",
       "    <tr>\n",
       "      <th>2</th>\n",
       "      <td>3</td>\n",
       "    </tr>\n",
       "  </tbody>\n",
       "</table>\n",
       "</div>"
      ],
      "text/plain": [
       "   0\n",
       "0  1\n",
       "1  2\n",
       "2  3"
      ]
     },
     "execution_count": 18,
     "metadata": {},
     "output_type": "execute_result"
    }
   ],
   "source": [
    "# Note: This cell is for explanation and testing purposes\n",
    "pd.DataFrame([1,2,3])"
   ]
  },
  {
   "cell_type": "code",
   "execution_count": 19,
   "metadata": {},
   "outputs": [
    {
     "data": {
      "text/html": [
       "<div>\n",
       "<style scoped>\n",
       "    .dataframe tbody tr th:only-of-type {\n",
       "        vertical-align: middle;\n",
       "    }\n",
       "\n",
       "    .dataframe tbody tr th {\n",
       "        vertical-align: top;\n",
       "    }\n",
       "\n",
       "    .dataframe thead th {\n",
       "        text-align: right;\n",
       "    }\n",
       "</style>\n",
       "<table border=\"1\" class=\"dataframe\">\n",
       "  <thead>\n",
       "    <tr style=\"text-align: right;\">\n",
       "      <th></th>\n",
       "      <th>0</th>\n",
       "    </tr>\n",
       "  </thead>\n",
       "  <tbody>\n",
       "    <tr>\n",
       "      <th>0</th>\n",
       "      <td>3</td>\n",
       "    </tr>\n",
       "    <tr>\n",
       "      <th>1</th>\n",
       "      <td>2</td>\n",
       "    </tr>\n",
       "    <tr>\n",
       "      <th>2</th>\n",
       "      <td>1</td>\n",
       "    </tr>\n",
       "  </tbody>\n",
       "</table>\n",
       "</div>"
      ],
      "text/plain": [
       "   0\n",
       "0  3\n",
       "1  2\n",
       "2  1"
      ]
     },
     "execution_count": 19,
     "metadata": {},
     "output_type": "execute_result"
    }
   ],
   "source": [
    "# # Note: This cell is for explanation and testing purposes\n",
    "pd.DataFrame([3,2,1])"
   ]
  },
  {
   "cell_type": "code",
   "execution_count": 20,
   "metadata": {},
   "outputs": [
    {
     "data": {
      "text/html": [
       "<div>\n",
       "<style scoped>\n",
       "    .dataframe tbody tr th:only-of-type {\n",
       "        vertical-align: middle;\n",
       "    }\n",
       "\n",
       "    .dataframe tbody tr th {\n",
       "        vertical-align: top;\n",
       "    }\n",
       "\n",
       "    .dataframe thead th {\n",
       "        text-align: right;\n",
       "    }\n",
       "</style>\n",
       "<table border=\"1\" class=\"dataframe\">\n",
       "  <thead>\n",
       "    <tr style=\"text-align: right;\">\n",
       "      <th></th>\n",
       "      <th>0</th>\n",
       "      <th>1</th>\n",
       "      <th>2</th>\n",
       "    </tr>\n",
       "  </thead>\n",
       "  <tbody>\n",
       "    <tr>\n",
       "      <th>0</th>\n",
       "      <td>1</td>\n",
       "      <td>2</td>\n",
       "      <td>3</td>\n",
       "    </tr>\n",
       "    <tr>\n",
       "      <th>1</th>\n",
       "      <td>3</td>\n",
       "      <td>2</td>\n",
       "      <td>1</td>\n",
       "    </tr>\n",
       "  </tbody>\n",
       "</table>\n",
       "</div>"
      ],
      "text/plain": [
       "   0  1  2\n",
       "0  1  2  3\n",
       "1  3  2  1"
      ]
     },
     "execution_count": 20,
     "metadata": {},
     "output_type": "execute_result"
    }
   ],
   "source": [
    "# Note: This cell is for explanation and testing purposes\n",
    "pd.DataFrame(np.vstack(([1,2,3], [3,2,1])))"
   ]
  },
  {
   "cell_type": "markdown",
   "metadata": {},
   "source": [
    "## Whiten mixed data stack\n",
    "**Whitening** is an operation that removes all linear dependencies in a data set and normalizes the variance along all dimensions."
   ]
  },
  {
   "cell_type": "code",
   "execution_count": 21,
   "metadata": {
    "code_folding": []
   },
   "outputs": [],
   "source": [
    "def whitening_process(mixed_signal_matrix):\n",
    "    \"\"\" Whitening is an operation that removes all linear dependencies in a data set\n",
    "    and normalizes the variance along all dimensions.\n",
    "\n",
    "    Args:\n",
    "        mixed_signal_matrix (numpy.ndarray): non whitened matrix which includes mixed sound datas.\n",
    "    Returns:\n",
    "        whitened_matrix     (numpy.ndarray): the matrix that linear dependencies deleted matrix.\n",
    "    \"\"\"\n",
    "    covariance_matrix = np.cov(mixed_signal_matrix)\n",
    "    eigen_value, eigen_vector = np.linalg.eigh(covariance_matrix)\n",
    "    diagonal_matrix = np.diag(eigen_value)\n",
    "    invert_square_root = np.sqrt(np.linalg.pinv(diagonal_matrix))\n",
    "    whiten_transformation = np.dot(eigen_vector, np.dot(invert_square_root, np.transpose(eigen_vector)))\n",
    "    whitened_matrix = np.dot(whiten_transformation, mixed_signal_matrix)\n",
    "    return whitened_matrix"
   ]
  },
  {
   "cell_type": "code",
   "execution_count": 22,
   "metadata": {},
   "outputs": [
    {
     "data": {
      "text/plain": [
       "array([[ 0.02007549,  0.01962606,  0.01938372, ..., -0.03867145,\n",
       "        -0.0374443 , -0.0374443 ],\n",
       "       [-0.00024982, -0.00068034, -0.00305898, ...,  0.00035827,\n",
       "         0.00046052,  0.00046052]])"
      ]
     },
     "execution_count": 22,
     "metadata": {},
     "output_type": "execute_result"
    }
   ],
   "source": [
    "whitened_data = whitening_process(mixed_data_stack)\n",
    "whitened_data"
   ]
  },
  {
   "cell_type": "markdown",
   "metadata": {},
   "source": [
    "The next few sections will explain the contents of the `whitening_process()`"
   ]
  },
  {
   "cell_type": "markdown",
   "metadata": {},
   "source": [
    "### np.cov(mixed_signal_matrix)\n"
   ]
  },
  {
   "cell_type": "markdown",
   "metadata": {},
   "source": [
    "#### Given"
   ]
  },
  {
   "cell_type": "markdown",
   "metadata": {},
   "source": [
    "Given two mixed audio files\n",
    "\n",
    "$$\n",
    "A = \\begin{bmatrix}\n",
    "1.0 & 2.0 & 3.0 \\\\\n",
    "\\end{bmatrix}\n",
    "$$\n",
    "\n",
    "$$\n",
    "B = \\begin{bmatrix}\n",
    "3.0 & 2.0 & 1.0 \\\\\n",
    "\\end{bmatrix}\n",
    "$$\n",
    "\n",
    "or given a mixed signal\n",
    "\n",
    "$$\n",
    "X = \n",
    "\\begin{bmatrix}\n",
    "1 & 2 & 3 \\\\\n",
    "3 & 2 & 1 \\\\\n",
    "\\end{bmatrix}\n",
    "$$"
   ]
  },
  {
   "cell_type": "code",
   "execution_count": 23,
   "metadata": {},
   "outputs": [],
   "source": [
    "A = [1.0, 2.0, 3.0]\n",
    "B = [3.0, 2.0, 1.0]\n",
    "X = np.vstack((A, B))\n",
    "N = X.shape[1]"
   ]
  },
  {
   "cell_type": "code",
   "execution_count": 24,
   "metadata": {},
   "outputs": [
    {
     "name": "stdout",
     "output_type": "stream",
     "text": [
      "A = [1.0, 2.0, 3.0]\n",
      "B = [3.0, 2.0, 1.0]\n",
      "N = 3\n",
      "X = \n"
     ]
    }
   ],
   "source": [
    "print(f'A = {A}')\n",
    "print(f'B = {B}')\n",
    "print(f'N = {N}')\n",
    "print(f'X = ')"
   ]
  },
  {
   "cell_type": "code",
   "execution_count": 25,
   "metadata": {},
   "outputs": [
    {
     "data": {
      "text/html": [
       "<div>\n",
       "<style scoped>\n",
       "    .dataframe tbody tr th:only-of-type {\n",
       "        vertical-align: middle;\n",
       "    }\n",
       "\n",
       "    .dataframe tbody tr th {\n",
       "        vertical-align: top;\n",
       "    }\n",
       "\n",
       "    .dataframe thead th {\n",
       "        text-align: right;\n",
       "    }\n",
       "</style>\n",
       "<table border=\"1\" class=\"dataframe\">\n",
       "  <thead>\n",
       "    <tr style=\"text-align: right;\">\n",
       "      <th></th>\n",
       "      <th>0</th>\n",
       "      <th>1</th>\n",
       "      <th>2</th>\n",
       "    </tr>\n",
       "  </thead>\n",
       "  <tbody>\n",
       "    <tr>\n",
       "      <th>0</th>\n",
       "      <td>1.0</td>\n",
       "      <td>2.0</td>\n",
       "      <td>3.0</td>\n",
       "    </tr>\n",
       "    <tr>\n",
       "      <th>1</th>\n",
       "      <td>3.0</td>\n",
       "      <td>2.0</td>\n",
       "      <td>1.0</td>\n",
       "    </tr>\n",
       "  </tbody>\n",
       "</table>\n",
       "</div>"
      ],
      "text/plain": [
       "     0    1    2\n",
       "0  1.0  2.0  3.0\n",
       "1  3.0  2.0  1.0"
      ]
     },
     "execution_count": 25,
     "metadata": {},
     "output_type": "execute_result"
    }
   ],
   "source": [
    "pd.DataFrame(X)"
   ]
  },
  {
   "cell_type": "markdown",
   "metadata": {},
   "source": [
    "#### Expected output"
   ]
  },
  {
   "cell_type": "markdown",
   "metadata": {},
   "source": [
    "expected output of np.cov() is\n",
    "\n",
    "$$\n",
    "Conv = \\begin{bmatrix}\n",
    "1.0 & -1.0 \\\\\n",
    "-1.0 & 1.0 \\\\\n",
    "\\end{bmatrix}\n",
    "$$"
   ]
  },
  {
   "cell_type": "code",
   "execution_count": 26,
   "metadata": {},
   "outputs": [
    {
     "data": {
      "text/plain": [
       "array([[ 1., -1.],\n",
       "       [-1.,  1.]])"
      ]
     },
     "execution_count": 26,
     "metadata": {},
     "output_type": "execute_result"
    }
   ],
   "source": [
    "np.cov(X)"
   ]
  },
  {
   "cell_type": "markdown",
   "metadata": {},
   "source": [
    "#### Compute np.cov() by hand\n",
    "\n",
    "References\n",
    "* [Main Source](https://stackoverflow.com/a/21759340/2303766)\n",
    "* [Supplementary](https://jamesmccaffrey.wordpress.com/2017/11/03/example-of-calculating-a-covariance-matrix/)"
   ]
  },
  {
   "cell_type": "code",
   "execution_count": 27,
   "metadata": {},
   "outputs": [
    {
     "data": {
      "text/plain": [
       "array([[1., 2., 3.],\n",
       "       [3., 2., 1.]])"
      ]
     },
     "execution_count": 27,
     "metadata": {},
     "output_type": "execute_result"
    }
   ],
   "source": [
    "X_tmp = X\n",
    "X_tmp"
   ]
  },
  {
   "cell_type": "markdown",
   "metadata": {},
   "source": [
    "##### Convert X_tmp using np.column_stack()\n",
    "\n",
    "Convert\n",
    "$$\n",
    "X = \n",
    "\\begin{bmatrix}\n",
    "1.0 & 2.0 & 3.0 \\\\\n",
    "3.0 & 2.0 & 1.0 \\\\\n",
    "\\end{bmatrix}\n",
    "$$\n",
    "\n",
    "to\n",
    "\n",
    "$$\n",
    "X\\_tmp = \n",
    "\\begin{bmatrix}\n",
    "1.0 & 3.0 \\\\\n",
    "2.0 & 2.0 \\\\\n",
    "3.0 & 1.0 \\\\\n",
    "\\end{bmatrix}\n",
    "$$"
   ]
  },
  {
   "cell_type": "code",
   "execution_count": 28,
   "metadata": {},
   "outputs": [
    {
     "data": {
      "text/plain": [
       "array([[1., 3.],\n",
       "       [2., 2.],\n",
       "       [3., 1.]])"
      ]
     },
     "execution_count": 28,
     "metadata": {},
     "output_type": "execute_result"
    }
   ],
   "source": [
    "X_tmp = np.column_stack(X_tmp)\n",
    "X_tmp"
   ]
  },
  {
   "cell_type": "markdown",
   "metadata": {},
   "source": [
    "##### Subtract X_tmp with each column's mean\n",
    "\n",
    "$$\n",
    "X\\_tmp =\n",
    "\\begin{bmatrix}\n",
    "1 & 3 \\\\\n",
    "2 & 2 \\\\\n",
    "3 & 1 \\\\ \n",
    "\\end{bmatrix}\n",
    "-\n",
    "\\begin{bmatrix} 2 & 2 \\\\\\end{bmatrix}\n",
    "$$\n",
    "\n",
    "$$\n",
    "X\\_tmp = \\begin{bmatrix}\n",
    "-1.0 & 1.0 \\\\\n",
    "0.0 & 0.0 \\\\\n",
    "1.0 & -1.0 \\\\\n",
    "\\end{bmatrix}\n",
    "$$"
   ]
  },
  {
   "cell_type": "code",
   "execution_count": 29,
   "metadata": {},
   "outputs": [
    {
     "data": {
      "text/plain": [
       "array([[-1.,  1.],\n",
       "       [ 0.,  0.],\n",
       "       [ 1., -1.]])"
      ]
     },
     "execution_count": 29,
     "metadata": {},
     "output_type": "execute_result"
    }
   ],
   "source": [
    "X_tmp -= X_tmp.mean(axis=0)\n",
    "X_tmp"
   ]
  },
  {
   "cell_type": "markdown",
   "metadata": {},
   "source": [
    "##### Compute for N - 1\n",
    "$$\n",
    "N = 3\n",
    "$$\n",
    "\n",
    "$$\n",
    "fact = N - 1 = 2\n",
    "$$"
   ]
  },
  {
   "cell_type": "code",
   "execution_count": 30,
   "metadata": {},
   "outputs": [
    {
     "data": {
      "text/plain": [
       "2"
      ]
     },
     "execution_count": 30,
     "metadata": {},
     "output_type": "execute_result"
    }
   ],
   "source": [
    "fact = N - 1\n",
    "fact"
   ]
  },
  {
   "cell_type": "markdown",
   "metadata": {},
   "source": [
    "##### Compute for dot matrix between transposed X_tmp and X_tmp, then divide by fact\n",
    "\n",
    "$$\n",
    "\\frac{X\\_tmp ^{T} \\cdot{} X\\_tmp}{fact}\n",
    "$$\n",
    "\n",
    "$$\n",
    "= \\frac{\\begin{bmatrix}\n",
    "-1.0 & 0.0 & 1.0 \\\\\n",
    "1.0 & 0.0 & -1.0 \\\\\n",
    "\\end{bmatrix} \\cdot\n",
    "\\begin{bmatrix}\n",
    "-1.0 & 1.0 \\\\\n",
    "0.0 & 0.0 \\\\\n",
    "1.0 & -1.0 \\\\\n",
    "\\end{bmatrix}}{2}\n",
    "$$\n",
    "\n",
    "$$\n",
    "= \\frac{\\begin{bmatrix}\n",
    "2.0 & -2.0 \\\\\n",
    "-2.0 & 2.0 \\\\\n",
    "\\end{bmatrix}}{2}\n",
    "$$\n",
    "\n",
    "$$\n",
    "= \\begin{bmatrix}\n",
    "1.0 & -1.0 \\\\\n",
    "-1.0 & 1.0 \\\\\n",
    "\\end{bmatrix}\n",
    "$$"
   ]
  },
  {
   "cell_type": "code",
   "execution_count": 31,
   "metadata": {},
   "outputs": [
    {
     "data": {
      "text/plain": [
       "array([[ 1., -1.],\n",
       "       [-1.,  1.]])"
      ]
     },
     "execution_count": 31,
     "metadata": {},
     "output_type": "execute_result"
    }
   ],
   "source": [
    "by_hand = np.dot(X_tmp.T, X_tmp.conj()) / fact\n",
    "by_hand"
   ]
  },
  {
   "cell_type": "markdown",
   "metadata": {},
   "source": [
    "### np.linalg.eigh(covariance_matrix)"
   ]
  },
  {
   "cell_type": "markdown",
   "metadata": {},
   "source": [
    "## FastICA"
   ]
  },
  {
   "cell_type": "code",
   "execution_count": null,
   "metadata": {},
   "outputs": [],
   "source": [
    "def get_independent_components(whitened_data):\n",
    "\tweights = []\n",
    "\tfor i in range(whitened_data.shape[0]):\n",
    "\t\tweight = fastica.FastICA(whitened_data, weights)\n",
    "\t\tweights.append(weight)\n",
    "\tweights = np.vstack(weights)\n",
    "\tindependent_components = np.dot(weights, whitened_data)\n",
    "\treturn independent_components"
   ]
  },
  {
   "cell_type": "code",
   "execution_count": null,
   "metadata": {},
   "outputs": [],
   "source": [
    "independent_components = get_independent_components(whitened_data)"
   ]
  },
  {
   "cell_type": "code",
   "execution_count": null,
   "metadata": {},
   "outputs": [],
   "source": [
    "# Note: This cell is for explanation and testing purposes\n",
    "# Show 2 wav files in plot\n",
    "x = np.arange(0, (len(mixed_data1) / sample_rate1), (1 / sample_rate1))\n",
    "\n",
    "#Show wav file on chart\n",
    "fig = plt.figure()\n",
    "fig, (ax1, ax2) = plt.subplots(2, 2, figsize=(6,5), sharey=True)\n",
    "fig.suptitle('Mixed & Separated audio files')\n",
    "\n",
    "ax1[0].plot(x, mixed_data1, color=\"green\", alpha = 0.8)\n",
    "ax1[0].set(ylabel='Amplitude')\n",
    "ax1[0].legend(['Mixed Data'])\n",
    "\n",
    "ax1[1].plot(x, independent_components[0], color=\"blue\", alpha = 0.8)\n",
    "ax1[1].legend(['Separated'])\n",
    "\n",
    "ax2[0].plot(x, mixed_data2, color=\"green\", alpha = 0.8)\n",
    "ax2[0].set(xlabel='Time [sec]', ylabel='Amplitude')\n",
    "ax2[0].legend(['Mixed Data'])\n",
    "\n",
    "ax2[1].plot(x, independent_components[1], color=\"blue\", alpha = 0.8)\n",
    "ax2[1].set(xlabel='Time [sec]')\n",
    "ax2[1].legend(['Separated'])\n",
    "\n",
    "plt.show()\n",
    "plt.close(fig)"
   ]
  }
 ],
 "metadata": {
  "kernelspec": {
   "display_name": "Python 3",
   "language": "python",
   "name": "python3"
  },
  "language_info": {
   "codemirror_mode": {
    "name": "ipython",
    "version": 3
   },
   "file_extension": ".py",
   "mimetype": "text/x-python",
   "name": "python",
   "nbconvert_exporter": "python",
   "pygments_lexer": "ipython3",
   "version": "3.7.4"
  },
  "toc": {
   "base_numbering": 1,
   "nav_menu": {},
   "number_sections": true,
   "sideBar": true,
   "skip_h1_title": false,
   "title_cell": "Table of Contents",
   "title_sidebar": "Contents",
   "toc_cell": false,
   "toc_position": {
    "height": "calc(100% - 180px)",
    "left": "10px",
    "top": "150px",
    "width": "316.8px"
   },
   "toc_section_display": true,
   "toc_window_display": true
  }
 },
 "nbformat": 4,
 "nbformat_minor": 2
}
